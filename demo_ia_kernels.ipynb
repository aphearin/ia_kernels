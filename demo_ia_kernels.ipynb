{
 "cells": [
  {
   "cell_type": "code",
   "execution_count": 1,
   "metadata": {},
   "outputs": [],
   "source": [
    "%matplotlib inline"
   ]
  },
  {
   "cell_type": "code",
   "execution_count": 2,
   "metadata": {},
   "outputs": [],
   "source": [
    "import ia_kernels"
   ]
  },
  {
   "cell_type": "markdown",
   "metadata": {},
   "source": [
    "### Generate 3d vectors with directions correlated with $e_{\\rm halo}$"
   ]
  },
  {
   "cell_type": "code",
   "execution_count": 3,
   "metadata": {},
   "outputs": [],
   "source": [
    "npts = int(1e5)\n",
    "\n",
    "e_halo = ia_kernels.normalized_vectors(np.random.random((npts, 3)))\n",
    "\n",
    "p1 = np.zeros(npts) + 5.\n",
    "correlated_e1_p1 = ia_kernels.axes_correlated_with_input_vector(e_halo, powerlaw_indices=p1, seed=43)\n",
    "\n",
    "p2 = np.ones(npts)\n",
    "correlated_e1_p2 = ia_kernels.axes_correlated_with_input_vector(e_halo, powerlaw_indices=p2, seed=43)\n",
    "\n",
    "p3 = np.zeros(npts) - 5.\n",
    "correlated_e1_p3 = ia_kernels.axes_correlated_with_input_vector(e_halo, powerlaw_indices=p3, seed=43)\n"
   ]
  },
  {
   "cell_type": "markdown",
   "metadata": {},
   "source": [
    "### Compute angles between vectors and plot"
   ]
  },
  {
   "cell_type": "code",
   "execution_count": 4,
   "metadata": {},
   "outputs": [
    {
     "data": {
      "image/png": "[encoded data removed]",
      "text/plain": [
       "<matplotlib.figure.Figure at 0x117c9a650>"
      ]
     },
     "metadata": {},
     "output_type": "display_data"
    }
   ],
   "source": [
    "angles1 = ia_kernels.angles_between_list_of_vectors(e_halo, correlated_e1_p1)\n",
    "angles2 = ia_kernels.angles_between_list_of_vectors(e_halo, correlated_e1_p2)\n",
    "angles3 = ia_kernels.angles_between_list_of_vectors(e_halo, correlated_e1_p3)\n",
    "\n",
    "fig, ax = plt.subplots(1, 1)\n",
    "\n",
    "__=ax.hist(angles1-np.pi/2., bins=50, normed=True, alpha=0.8, label='negative correlation')\n",
    "__=ax.hist(angles2-np.pi/2., bins=50, normed=True, alpha=0.8, label='random orientation')\n",
    "__=ax.hist(angles3-np.pi/2., bins=50, normed=True, alpha=0.8, label='positive correlation')\n",
    "\n",
    "legend = ax.legend()\n",
    "ylim = ax.set_ylim(0, 2)\n",
    "xlabel = ax.set_xlabel(r'$\\theta \\ [{\\rm radians}]$')\n",
    "ylabel = ax.set_ylabel(r'${\\rm PDF}$')"
   ]
  },
  {
   "cell_type": "markdown",
   "metadata": {},
   "source": [
    "### Generate a toy orthonormal basis for the galaxy shape"
   ]
  },
  {
   "cell_type": "code",
   "execution_count": 5,
   "metadata": {},
   "outputs": [],
   "source": [
    "galaxy_e1 = ia_kernels.normalized_vectors(np.random.random((npts, 3)))\n",
    "\n",
    "galaxy_e2 = ia_kernels.random_perpendicular_directions(galaxy_e1, seed=43)\n",
    "\n",
    "galaxy_e3 = ia_kernels.vectors_normal_to_planes(galaxy_e1, galaxy_e2)\n",
    "\n",
    "galaxy_orthonormal_basis = np.vstack((galaxy_e1, galaxy_e2, galaxy_e3)).T"
   ]
  },
  {
   "cell_type": "markdown",
   "metadata": {},
   "source": [
    "### Rotate orthonormal bases to align $e_1$ with orientation angle\n",
    "\n",
    "For each of the three cases above, $p_1, p_2, p_3,$ determine the rotation matrix that maps $e_{1}^{\\rm galaxy}$ into $e_{1}^{\\rm correlated}.$ Then apply these matrices to each of the three unit-vectors defining the above galaxy shape basis, so that the orthonormal basis of the galaxies has been rotated to be correlated with $e_{\\rm halo}.$"
   ]
  },
  {
   "cell_type": "code",
   "execution_count": 6,
   "metadata": {},
   "outputs": [],
   "source": [
    "matrices_p1 = ia_kernels.rotation_matrices_from_vectors(galaxy_e1, correlated_e1_p1)\n",
    "re_oriented_random_e1_p1 = ia_kernels.rotate_vector_collection(matrices_p1, galaxy_e1)\n",
    "re_oriented_random_e2_p1 = ia_kernels.rotate_vector_collection(matrices_p1, galaxy_e2)\n",
    "re_oriented_random_e3_p1 = ia_kernels.rotate_vector_collection(matrices_p1, galaxy_e3)"
   ]
  },
  {
   "cell_type": "code",
   "execution_count": 7,
   "metadata": {},
   "outputs": [],
   "source": [
    "matrices_p2 = ia_kernels.rotation_matrices_from_vectors(galaxy_e1, correlated_e1_p2)\n",
    "re_oriented_random_e1_p2 = ia_kernels.rotate_vector_collection(matrices_p2, galaxy_e1)\n",
    "re_oriented_random_e2_p2 = ia_kernels.rotate_vector_collection(matrices_p2, galaxy_e2)\n",
    "re_oriented_random_e3_p2 = ia_kernels.rotate_vector_collection(matrices_p2, galaxy_e3)"
   ]
  },
  {
   "cell_type": "code",
   "execution_count": 8,
   "metadata": {},
   "outputs": [],
   "source": [
    "matrices_p3 = ia_kernels.rotation_matrices_from_vectors(galaxy_e1, correlated_e1_p3)\n",
    "re_oriented_random_e1_p3 = ia_kernels.rotate_vector_collection(matrices_p3, galaxy_e1)\n",
    "re_oriented_random_e2_p3 = ia_kernels.rotate_vector_collection(matrices_p3, galaxy_e2)\n",
    "re_oriented_random_e3_p3 = ia_kernels.rotate_vector_collection(matrices_p3, galaxy_e3)"
   ]
  },
  {
   "cell_type": "code",
   "execution_count": null,
   "metadata": {},
   "outputs": [],
   "source": [
    "\n"
   ]
  },
  {
   "cell_type": "code",
   "execution_count": null,
   "metadata": {},
   "outputs": [],
   "source": []
  }
 ],
 "metadata": {
  "kernelspec": {
   "display_name": "Python [conda root]",
   "language": "python",
   "name": "conda-root-py"
  },
  "language_info": {
   "codemirror_mode": {
    "name": "ipython",
    "version": 2
   },
   "file_extension": ".py",
   "mimetype": "text/x-python",
   "name": "python",
   "nbconvert_exporter": "python",
   "pygments_lexer": "ipython2",
   "version": "2.7.14"
  }
 },
 "nbformat": 4,
 "nbformat_minor": 2
}
