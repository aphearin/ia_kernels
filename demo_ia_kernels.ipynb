{
 "cells": [
  {
   "cell_type": "markdown",
   "metadata": {},
   "source": [
    "#  Demo usage of empirical IA modeling kernels\n",
    "\n",
    "This notebook shows how to use the numpy kernels implemented in `ia_kernels`. These kernels have nothing to do at all with the actual modeling side of the IA--halo connection. The only thing these kernels do is handle the ndarray gymnastics of 3d rotation matrices, and using this machinery to generate Monte Carlo realizations of correlated 3d directions. \n",
    "\n",
    "The most important function is `axes_correlated_with_input_vector`. This function accepts two inputs: 1. a preferred direction in space called $e_{\\rm halo},$ which is usually something like the principal eigenvector of halo shape or large-scale tidal tensor, 2. correlation strength, $p,$ which can take any value. \n",
    "\n",
    "The first half of this notebook demonstrates how to use the `axes_correlated_with_input_vector` function to generate a principal axis for the galaxies, and illustrates how the correlation strength manifests in the distribution of correlation angles. The second half of the notebook shows how to use the additiona functions in `ia_kernels` to generate a full orthonormal basis for the model galaxies (as opposed to just a single principal eigenvector). "
   ]
  },
  {
   "cell_type": "code",
   "execution_count": 1,
   "metadata": {},
   "outputs": [],
   "source": [
    "%matplotlib inline\n",
    "import numpy as np "
   ]
  },
  {
   "cell_type": "code",
   "execution_count": 2,
   "metadata": {},
   "outputs": [],
   "source": [
    "import ia_kernels\n",
    "__=reload(ia_kernels)"
   ]
  },
  {
   "cell_type": "markdown",
   "metadata": {},
   "source": [
    "### Generate 3d vectors with directions correlated with $e_{\\rm halo}$"
   ]
  },
  {
   "cell_type": "code",
   "execution_count": 3,
   "metadata": {},
   "outputs": [],
   "source": [
    "npts = int(1e5)\n",
    "\n",
    "#  Choose some unit-vector defining the underlying orientation angle\n",
    "e_halo = ia_kernels.normalized_vectors(np.random.random((npts, 3)))\n",
    "\n",
    "#  Pick a handful of correlation strengths\n",
    "a1, a2, a3, a4, a5 = -1, 0, 1, -25, 25\n",
    "\n",
    "#  Generate a galaxy orientation for each chosen correlation strength\n",
    "p1 = np.zeros(npts) + a1\n",
    "correlated_e1_p1 = ia_kernels.axes_correlated_with_input_vector(e_halo, p1, seed=43)\n",
    "\n",
    "p2 = np.zeros(npts) + a2\n",
    "correlated_e1_p2 = ia_kernels.axes_correlated_with_input_vector(e_halo, p2, seed=43)\n",
    "\n",
    "p3 = np.zeros(npts) + a3\n",
    "correlated_e1_p3 = ia_kernels.axes_correlated_with_input_vector(e_halo, p3, seed=43)\n",
    "\n",
    "p4 = np.zeros(npts) + a4\n",
    "correlated_e1_p4 = ia_kernels.axes_correlated_with_input_vector(e_halo, p4, seed=43)\n",
    "\n",
    "p5 = np.zeros(npts) + a5\n",
    "correlated_e1_p5 = ia_kernels.axes_correlated_with_input_vector(e_halo, p5, seed=43)\n"
   ]
  },
  {
   "cell_type": "markdown",
   "metadata": {},
   "source": [
    "### Compute angles between vectors and plot\n",
    "\n",
    "For each model, compute the relative angle between $e_{\\rm halo}$ and the galaxy principal axis"
   ]
  },
  {
   "cell_type": "code",
   "execution_count": 5,
   "metadata": {},
   "outputs": [
    {
     "data": {
      "image/png": "[encoded data removed]",
      "text/plain": [
       "<matplotlib.figure.Figure at 0x1110330d0>"
      ]
     },
     "metadata": {},
     "output_type": "display_data"
    }
   ],
   "source": [
    "angles1 = ia_kernels.angles_between_list_of_vectors(e_halo, correlated_e1_p1)\n",
    "angles2 = ia_kernels.angles_between_list_of_vectors(e_halo, correlated_e1_p2)\n",
    "angles3 = ia_kernels.angles_between_list_of_vectors(e_halo, correlated_e1_p3)\n",
    "angles4 = ia_kernels.angles_between_list_of_vectors(e_halo, correlated_e1_p4)\n",
    "angles5 = ia_kernels.angles_between_list_of_vectors(e_halo, correlated_e1_p5)\n",
    "\n",
    "\n",
    "fig, ax = plt.subplots(1, 1)\n",
    "\n",
    "__=ax.hist(angles4-np.pi/2., bins=50, normed=True, alpha=0.8, label='strong negative orientation')\n",
    "__=ax.hist(angles1-np.pi/2., bins=50, normed=True, alpha=0.8, label='weak negative correlation')\n",
    "__=ax.hist(angles2-np.pi/2., bins=50, normed=True, alpha=0.8, label='random orientation')\n",
    "__=ax.hist(angles3-np.pi/2., bins=50, normed=True, alpha=0.8, label='weak positive correlation')\n",
    "__=ax.hist(angles5-np.pi/2., bins=50, normed=True, alpha=0.8, label='strong positive correlation')\n",
    "\n",
    "legend = ax.legend()\n",
    "ylim = ax.set_ylim(0, 4)\n",
    "xlabel = ax.set_xlabel(r'$\\theta \\ [{\\rm radians}]$')\n",
    "ylabel = ax.set_ylabel(r'${\\rm PDF}$')\n",
    "title = ax.set_title(r'${\\rm angles\\ between\\ galaxy\\ and\\ alignment\\ vector}$')\n"
   ]
  },
  {
   "cell_type": "markdown",
   "metadata": {},
   "source": [
    "### Generate a toy orthonormal basis for the galaxy shape\n",
    "\n",
    "The above results show how to compute the orientation of the principal eigenvector. But for the full calculation we will want to rotate all three galaxy eigenvectors into this new orthonormal basis. So below we generate a toy collection of galaxy orientations, including all three directions for each galaxy, and then rotate each orthonormal frame into the correlation direction."
   ]
  },
  {
   "cell_type": "code",
   "execution_count": 7,
   "metadata": {},
   "outputs": [],
   "source": [
    "#  Pick some random directions for the galaxy's principal eigenvector\n",
    "galaxy_e1 = ia_kernels.normalized_vectors(np.random.random((npts, 3)))\n",
    "\n",
    "#  Pick some random orthogonal direction for the second eigenvector\n",
    "galaxy_e2 = ia_kernels.random_perpendicular_directions(galaxy_e1, seed=43)\n",
    "\n",
    "#  The unit-normalized third eigenvector is now determined\n",
    "galaxy_e3 = ia_kernels.vectors_normal_to_planes(galaxy_e1, galaxy_e2)\n",
    "\n",
    "galaxy_orthonormal_basis = np.vstack((galaxy_e1, galaxy_e2, galaxy_e3)).T"
   ]
  },
  {
   "cell_type": "markdown",
   "metadata": {},
   "source": [
    "### Rotate orthonormal bases to align $e_1$ with orientation angle\n",
    "\n",
    "For each of the five correlation strengths modeled above in the previous section, $a_1, a_2, a_3, a_4, a_5$ determine the rotation matrix that maps $e_{1}^{\\rm galaxy}$ into $e_{1}^{\\rm halo}.$ Then apply these rotation matrices to each of the three principal eigenvectors defining the galaxy shape basis, so that the orthonormal basis of the galaxies has been rotated to be correlated with $e_{\\rm halo}.$"
   ]
  },
  {
   "cell_type": "code",
   "execution_count": 16,
   "metadata": {},
   "outputs": [],
   "source": [
    "matrices_p1 = ia_kernels.rotation_matrices_from_vectors(galaxy_e1, correlated_e1_p1)\n",
    "re_oriented_e1_p1 = ia_kernels.rotate_vector_collection(matrices_p1, galaxy_e1)\n",
    "re_oriented_e2_p1 = ia_kernels.rotate_vector_collection(matrices_p1, galaxy_e2)\n",
    "re_oriented_e3_p1 = ia_kernels.rotate_vector_collection(matrices_p1, galaxy_e3)\n",
    "\n",
    "matrices_p2 = ia_kernels.rotation_matrices_from_vectors(galaxy_e1, correlated_e1_p2)\n",
    "re_oriented_e1_p2 = ia_kernels.rotate_vector_collection(matrices_p2, galaxy_e1)\n",
    "re_oriented_e2_p2 = ia_kernels.rotate_vector_collection(matrices_p2, galaxy_e2)\n",
    "re_oriented_e3_p2 = ia_kernels.rotate_vector_collection(matrices_p2, galaxy_e3)\n",
    "\n",
    "matrices_p3 = ia_kernels.rotation_matrices_from_vectors(galaxy_e1, correlated_e1_p3)\n",
    "re_oriented_e1_p3 = ia_kernels.rotate_vector_collection(matrices_p3, galaxy_e1)\n",
    "re_oriented_e2_p3 = ia_kernels.rotate_vector_collection(matrices_p3, galaxy_e2)\n",
    "re_oriented_e3_p3 = ia_kernels.rotate_vector_collection(matrices_p3, galaxy_e3)\n",
    "\n",
    "matrices_p4 = ia_kernels.rotation_matrices_from_vectors(galaxy_e1, correlated_e1_p4)\n",
    "re_oriented_e1_p4 = ia_kernels.rotate_vector_collection(matrices_p4, galaxy_e1)\n",
    "re_oriented_e2_p4 = ia_kernels.rotate_vector_collection(matrices_p4, galaxy_e2)\n",
    "re_oriented_e3_p4 = ia_kernels.rotate_vector_collection(matrices_p4, galaxy_e3)\n",
    "\n",
    "matrices_p5 = ia_kernels.rotation_matrices_from_vectors(galaxy_e1, correlated_e1_p5)\n",
    "re_oriented_e1_p5 = ia_kernels.rotate_vector_collection(matrices_p5, galaxy_e1)\n",
    "re_oriented_e2_p5 = ia_kernels.rotate_vector_collection(matrices_p5, galaxy_e2)\n",
    "re_oriented_e3_p5 = ia_kernels.rotate_vector_collection(matrices_p5, galaxy_e3)"
   ]
  },
  {
   "cell_type": "code",
   "execution_count": 12,
   "metadata": {},
   "outputs": [],
   "source": []
  },
  {
   "cell_type": "code",
   "execution_count": 13,
   "metadata": {},
   "outputs": [],
   "source": []
  }
 ],
 "metadata": {
  "kernelspec": {
   "display_name": "Python [conda root]",
   "language": "python",
   "name": "conda-root-py"
  },
  "language_info": {
   "codemirror_mode": {
    "name": "ipython",
    "version": 2
   },
   "file_extension": ".py",
   "mimetype": "text/x-python",
   "name": "python",
   "nbconvert_exporter": "python",
   "pygments_lexer": "ipython2",
   "version": "2.7.14"
  }
 },
 "nbformat": 4,
 "nbformat_minor": 2
}
