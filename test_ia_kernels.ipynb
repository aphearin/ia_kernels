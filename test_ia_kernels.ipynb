{
 "cells": [
  {
   "cell_type": "code",
   "execution_count": 1,
   "metadata": {},
   "outputs": [],
   "source": [
    "%matplotlib inline"
   ]
  },
  {
   "cell_type": "code",
   "execution_count": 2,
   "metadata": {},
   "outputs": [],
   "source": [
    "from ia_kernels import normalized_vectors\n",
    "npts_source_gals = int(1e4)\n",
    "source_e1 = normalized_vectors(np.random.random((npts_source_gals, 3)))"
   ]
  },
  {
   "cell_type": "code",
   "execution_count": 3,
   "metadata": {},
   "outputs": [],
   "source": [
    "from ia_kernels import random_perpendicular_directions\n",
    "source_e2 = random_perpendicular_directions(source_e1)"
   ]
  },
  {
   "cell_type": "code",
   "execution_count": 4,
   "metadata": {},
   "outputs": [],
   "source": [
    "from ia_kernels import vectors_normal_to_planes\n",
    "source_e3 = vectors_normal_to_planes(source_e1, source_e2)"
   ]
  },
  {
   "cell_type": "code",
   "execution_count": 5,
   "metadata": {},
   "outputs": [],
   "source": [
    "npts_target_halos = int(1e6)\n",
    "target_halos_e1 = normalized_vectors(np.random.random((npts_target_halos, 3)))"
   ]
  },
  {
   "cell_type": "code",
   "execution_count": 6,
   "metadata": {},
   "outputs": [],
   "source": [
    "from ia_kernels import random_partially_aligned_vectors\n",
    "# target_alignment_angle = random_partially_aligned_vectors(target_halos_e1, 0.25)\n",
    "\n",
    "# from ia_kernels import angles_between_list_of_vectors\n",
    "# angles = angles_between_list_of_vectors(target_halos_e1, target_alignment_angle)\n",
    "# directions = vectors_normal_to_planes(target_halos_e1, target_alignment_angle)\n",
    "\n",
    "# from ia_kernels import rotation_matrices\n",
    "# matrices = rotation_matrices(angles, directions)\n",
    "\n",
    "# from ia_kernels import rotate_vector_collection\n",
    "\n",
    "# vector_should_equal_target_alignment_angle = rotate_vector_collection(matrices, target_halos_e1)\n",
    "# test_angles = angles_between_list_of_vectors(vector_should_equal_target_alignment_angle, target_alignment_angle)\n",
    "# assert np.allclose(test_angles, 0.0, atol=0.001)"
   ]
  },
  {
   "cell_type": "code",
   "execution_count": 13,
   "metadata": {},
   "outputs": [
    {
     "data": {
      "image/png": "[encoded data removed]",
      "text/plain": [
       "<matplotlib.figure.Figure at 0x110e308d0>"
      ]
     },
     "metadata": {},
     "output_type": "display_data"
    }
   ],
   "source": [
    "import ia_kernels\n",
    "__=reload(ia_kernels)\n",
    "\n",
    "x_axes = np.tile((1, 0, 0), npts_source_gals).reshape((npts_source_gals, 3))\n",
    "z_axes = np.tile((0, 0, 1), npts_source_gals).reshape((npts_source_gals, 3))\n",
    "\n",
    "random_axes1 = ia_kernels.axes_correlated_with_z(np.ones(npts_source_gals))\n",
    "random_axes2 = ia_kernels.axes_correlated_with_z(np.zeros(npts_source_gals)-3.)\n",
    "random_axes3 = ia_kernels.axes_correlated_with_z(np.zeros(npts_source_gals)+1.5)\n",
    "\n",
    "from ia_kernels import angles_between_list_of_vectors\n",
    "angles = angles_between_list_of_vectors(random_axes1, z_axes)\n",
    "angles2 = angles_between_list_of_vectors(random_axes2, z_axes)\n",
    "angles3 = angles_between_list_of_vectors(random_axes3, z_axes)\n",
    "\n",
    "fig, ax = plt.subplots(1, 1)\n",
    "\n",
    "__=ax.hist(angles2-np.pi/2., bins=50, alpha=0.8, label='bright red galaxies', normed=True, color='red')\n",
    "__=ax.hist(angles3-np.pi/2., bins=50, alpha=0.8, label='faint blue galaxies', normed=True, color='blue')\n",
    "__=ax.hist(angles-np.pi/2., bins=50, alpha=0.8, label='zero correlation', normed=True, color='gray')\n",
    "\n",
    "legend = ax.legend()\n",
    "ylim = ax.set_ylim(0, 1.25)\n",
    "title = ax.set_title('Empirical Modeling Intrinsic Alignments')\n",
    "xlabel = ax.set_xlabel(r'alignment angle')\n",
    "ylabel = ax.set_ylabel(r'PDF')\n",
    "\n",
    "# figname = 'empirical_alignment_demo.pdf'\n",
    "# fig.savefig(figname, bbox_extra_artists=[xlabel, ylabel], bbox_inches='tight')"
   ]
  },
  {
   "cell_type": "code",
   "execution_count": 31,
   "metadata": {},
   "outputs": [
    {
     "data": {
      "image/png": "[encoded data removed]",
      "text/plain": [
       "<matplotlib.figure.Figure at 0x114bd9dd0>"
      ]
     },
     "metadata": {},
     "output_type": "display_data"
    }
   ],
   "source": [
    "desired_correlation_axes = ia_kernels.normalized_vectors(np.random.random((npts_source_gals, 3)))\n",
    "\n",
    "angles1a = angles_between_list_of_vectors(z_axes, desired_correlation_axes)\n",
    "angles2a = angles_between_list_of_vectors(z_axes, desired_correlation_axes)\n",
    "angles3a = angles_between_list_of_vectors(z_axes, desired_correlation_axes)\n",
    "\n",
    "rotation_axes1 = vectors_normal_to_planes(z_axes, desired_correlation_axes)\n",
    "rotation_axes2 = vectors_normal_to_planes(z_axes, desired_correlation_axes)\n",
    "rotation_axes3 = vectors_normal_to_planes(z_axes, desired_correlation_axes)\n",
    "\n",
    "matrices1 = ia_kernels.rotation_matrices(angles1a, rotation_axes1)\n",
    "matrices2 = ia_kernels.rotation_matrices(angles2a, rotation_axes2)\n",
    "matrices3 = ia_kernels.rotation_matrices(angles3a, rotation_axes3)\n",
    "\n",
    "final_axes1 = ia_kernels.rotate_vector_collection(matrices1, random_axes1)\n",
    "final_axes2 = ia_kernels.rotate_vector_collection(matrices2, random_axes2)\n",
    "final_axes3 = ia_kernels.rotate_vector_collection(matrices3, random_axes3)\n",
    "\n",
    "final_angles1 = angles_between_list_of_vectors(final_axes1, desired_correlation_axes)\n",
    "final_angles2 = angles_between_list_of_vectors(final_axes2, desired_correlation_axes)\n",
    "final_angles3 = angles_between_list_of_vectors(final_axes3, desired_correlation_axes)\n",
    "\n",
    "fig, ax = plt.subplots(1, 1)\n",
    "\n",
    "__=ax.hist(final_angles2-np.pi/2., bins=50, alpha=0.8, label='bright red galaxies', normed=True, color='red')\n",
    "__=ax.hist(final_angles3-np.pi/2., bins=50, alpha=0.8, label='faint blue galaxies', normed=True, color='blue')\n",
    "__=ax.hist(final_angles1-np.pi/2., bins=50, alpha=0.8, label='zero correlation', normed=True, color='gray')\n"
   ]
  },
  {
   "cell_type": "code",
   "execution_count": 35,
   "metadata": {},
   "outputs": [
    {
     "data": {
      "image/png": "[encoded data removed]",
      "text/plain": [
       "<matplotlib.figure.Figure at 0x1152a6810>"
      ]
     },
     "metadata": {},
     "output_type": "display_data"
    }
   ],
   "source": [
    "__=reload(ia_kernels)\n",
    "\n",
    "correlation_axes = ia_kernels.normalized_vectors(np.random.random((npts_source_gals, 3)))\n",
    "\n",
    "axes1 = ia_kernels.axes_correlated_with_input_vector(correlation_axes, np.ones(npts_source_gals))\n",
    "axes2 = ia_kernels.axes_correlated_with_input_vector(correlation_axes, np.zeros(npts_source_gals)-3.)\n",
    "axes3 = ia_kernels.axes_correlated_with_input_vector(correlation_axes, np.zeros(npts_source_gals)+1.5)\n",
    "\n",
    "final_angles1 = ia_kernels.angles_between_list_of_vectors(axes1, correlation_axes)\n",
    "final_angles2 = ia_kernels.angles_between_list_of_vectors(axes2, correlation_axes)\n",
    "final_angles3 = ia_kernels.angles_between_list_of_vectors(axes3, correlation_axes)\n",
    "\n",
    "fig, ax = plt.subplots(1, 1)\n",
    "\n",
    "__=ax.hist(final_angles2-np.pi/2., bins=50, alpha=0.8, label='bright red galaxies', normed=True, color='red')\n",
    "__=ax.hist(final_angles3-np.pi/2., bins=50, alpha=0.8, label='faint blue galaxies', normed=True, color='blue')\n",
    "__=ax.hist(final_angles1-np.pi/2., bins=50, alpha=0.8, label='zero correlation', normed=True, color='gray')\n"
   ]
  },
  {
   "cell_type": "code",
   "execution_count": null,
   "metadata": {},
   "outputs": [],
   "source": []
  },
  {
   "cell_type": "code",
   "execution_count": null,
   "metadata": {},
   "outputs": [],
   "source": []
  },
  {
   "cell_type": "code",
   "execution_count": null,
   "metadata": {},
   "outputs": [],
   "source": [
    "import ia_models\n",
    "__=reload(ia_models)\n",
    "\n",
    "x_axes = np.tile((0, 0, 1), npts_source_gals).reshape((npts_source_gals, 3))\n",
    "random_axes1 = ia_models.correlated_axes(powerlaw_indices=np.ones(npts_source_gals))\n",
    "random_axes2 = ia_models.correlated_axes(powerlaw_indices=np.zeros(npts_source_gals)-3.)\n",
    "random_axes3 = ia_models.correlated_axes(powerlaw_indices=np.zeros(npts_source_gals)+1.5)\n",
    "\n",
    "from ia_kernels import angles_between_list_of_vectors\n",
    "angles = angles_between_list_of_vectors(random_axes1, x_axes)\n",
    "angles2 = angles_between_list_of_vectors(random_axes2, x_axes)\n",
    "angles3 = angles_between_list_of_vectors(random_axes3, x_axes)\n",
    "\n",
    "fig, ax = plt.subplots(1, 1)\n",
    "\n",
    "__=ax.hist(angles2-np.pi/2., bins=50, alpha=0.8, label='bright red galaxies', normed=True, color='red')\n",
    "__=ax.hist(angles3-np.pi/2., bins=50, alpha=0.8, label='faint blue galaxies', normed=True, color='blue')\n",
    "__=ax.hist(angles-np.pi/2., bins=50, alpha=0.8, label='zero correlation', normed=True, color='gray')\n",
    "\n",
    "legend = ax.legend()\n",
    "ylim = ax.set_ylim(0, 1.25)\n",
    "title = ax.set_title('Empirical Modeling Intrinsic Alignments')\n",
    "xlabel = ax.set_xlabel(r'alignment angle')\n",
    "ylabel = ax.set_ylabel(r'PDF')\n"
   ]
  },
  {
   "cell_type": "code",
   "execution_count": null,
   "metadata": {},
   "outputs": [],
   "source": [
    "from astropy.utils.misc import NumpyRNGContext\n",
    "from scipy.stats import powerlaw\n",
    "\n",
    "def points_on_sphere(npts, index=1., seed=None, uran=False):\n",
    "\n",
    "    with NumpyRNGContext(seed):\n",
    "        phi = np.random.uniform(0, 2*np.pi, npts)\n",
    "\n",
    "        if uran is True:\n",
    "            cos_t = np.random.uniform(-1, 1, npts)\n",
    "        else:\n",
    "            uran1 = np.random.rand(npts)\n",
    "            idx_is_negative = idx < 0\n",
    "            cos_t = 2*powerlaw.isf(1-uran1, index) - 1.\n",
    "        \n",
    "    sin_t = np.sqrt((1.-cos_t*cos_t))\n",
    "\n",
    "    x = sin_t * np.cos(phi)\n",
    "    y = sin_t * np.sin(phi)\n",
    "    z = cos_t\n",
    "\n",
    "    return np.vstack((x, y, z)).T\n"
   ]
  },
  {
   "cell_type": "code",
   "execution_count": null,
   "metadata": {},
   "outputs": [],
   "source": [
    "npts = int(1e5)\n",
    "\n",
    "p0 = normalized_vectors(np.random.random((npts, 3)))\n",
    "\n",
    "p1 = points_on_sphere(npts, uran=True)\n",
    "p2 = points_on_sphere(npts, uran=False)\n",
    "p3 = points_on_sphere(npts, uran=False, index=2.5)\n",
    "\n",
    "angles1 = angles_between_list_of_vectors(p0, p1)\n",
    "angles2 = angles_between_list_of_vectors(p0, p2)\n",
    "angles3 = angles_between_list_of_vectors(p0, p3)\n",
    "\n",
    "fig, ax = plt.subplots(1, 1)\n",
    "\n",
    "__=ax.hist(angles1, bins=50, normed=True, alpha=0.8, label='zero alignment')\n",
    "# __=ax.hist(angles2, bins=50, normed=True, alpha=0.8, label='alternate zero')\n",
    "__=ax.hist(angles3, bins=50, normed=True, alpha=0.8, label='correlated alignment')\n",
    "\n",
    "ylim = ax.set_ylim(0, 1)\n",
    "leg = ax.legend()"
   ]
  },
  {
   "cell_type": "code",
   "execution_count": null,
   "metadata": {},
   "outputs": [],
   "source": [
    "p1.shape"
   ]
  },
  {
   "cell_type": "code",
   "execution_count": null,
   "metadata": {},
   "outputs": [],
   "source": [
    "p1"
   ]
  },
  {
   "cell_type": "code",
   "execution_count": null,
   "metadata": {},
   "outputs": [],
   "source": []
  },
  {
   "cell_type": "code",
   "execution_count": null,
   "metadata": {},
   "outputs": [],
   "source": []
  },
  {
   "cell_type": "code",
   "execution_count": null,
   "metadata": {},
   "outputs": [],
   "source": [
    "npts = int(1e6)\n",
    "v1 = np.random.random((npts, 3))\n",
    "v2 = np.random.random((npts, 3))\n",
    "random_angles = angles_between_list_of_vectors(v1, v2)\n",
    "\n",
    "# from ia_kernels import elementwise_dot\n",
    "# random_coeff = elementwise_dot(v1, v2)\n",
    "# v3 = random_partially_aligned_vectors(v1, random_coeff)\n",
    "# aligned_angles1 = angles_between_list_of_vectors(v1, v3)\n",
    "\n",
    "uran = np.random.uniform(-1, 1, npts)\n",
    "x = np.arccos(uran)\n",
    "\n",
    "fig, ax = plt.subplots(1, 1)\n",
    "\n",
    "__=ax.hist(angles, bins=50, normed=True, alpha=0.8, label='zero alignment')\n",
    "# __=ax.hist(aligned_angles1, bins=50, normed=True, alpha=0.8, label='partial alignment')\n",
    "\n",
    "leg = ax.legend()"
   ]
  },
  {
   "cell_type": "code",
   "execution_count": null,
   "metadata": {},
   "outputs": [],
   "source": [
    "random_angles.min(), random_angles.mean(), random_angles.max()"
   ]
  },
  {
   "cell_type": "code",
   "execution_count": null,
   "metadata": {},
   "outputs": [],
   "source": [
    "x.min(), x.mean(), x.max()"
   ]
  },
  {
   "cell_type": "code",
   "execution_count": null,
   "metadata": {},
   "outputs": [],
   "source": [
    "angles_between_list_of_vectors((1, 0, 0), (-1, 0, 0))"
   ]
  },
  {
   "cell_type": "code",
   "execution_count": null,
   "metadata": {},
   "outputs": [],
   "source": [
    "np.arccos(-1)"
   ]
  },
  {
   "cell_type": "code",
   "execution_count": null,
   "metadata": {},
   "outputs": [],
   "source": [
    "np.dot((1, 0, 0), (-1, 0, 0))"
   ]
  },
  {
   "cell_type": "code",
   "execution_count": null,
   "metadata": {},
   "outputs": [],
   "source": [
    "np.arccos?"
   ]
  },
  {
   "cell_type": "code",
   "execution_count": null,
   "metadata": {},
   "outputs": [],
   "source": [
    "fig, ax = plt.subplots(1, 1)\n",
    "\n",
    "x = 10*np.linspace(-np.pi, np.pi, 100)/np.pi\n",
    "__=ax.plot(x/np.pi, np.cos(x))\n",
    "__=ax.plot(x, np.zeros_like(x), '--', color='k')\n",
    "xlim = ax.set_xlim(-2, 2)"
   ]
  },
  {
   "cell_type": "code",
   "execution_count": null,
   "metadata": {},
   "outputs": [],
   "source": []
  }
 ],
 "metadata": {
  "kernelspec": {
   "display_name": "Python [conda root]",
   "language": "python",
   "name": "conda-root-py"
  },
  "language_info": {
   "codemirror_mode": {
    "name": "ipython",
    "version": 2
   },
   "file_extension": ".py",
   "mimetype": "text/x-python",
   "name": "python",
   "nbconvert_exporter": "python",
   "pygments_lexer": "ipython2",
   "version": "2.7.14"
  }
 },
 "nbformat": 4,
 "nbformat_minor": 2
}
